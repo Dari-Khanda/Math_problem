{
  "nbformat": 4,
  "nbformat_minor": 0,
  "metadata": {
    "colab": {
      "name": "Yandex_1_task_Garmaeva.ipynb",
      "provenance": [],
      "authorship_tag": "ABX9TyOYgKbzM+z86x1fmB5MENuZ",
      "include_colab_link": true
    },
    "kernelspec": {
      "name": "python3",
      "display_name": "Python 3"
    }
  },
  "cells": [
    {
      "cell_type": "markdown",
      "metadata": {
        "id": "view-in-github",
        "colab_type": "text"
      },
      "source": [
        "<a href=\"https://colab.research.google.com/github/Dari-Khanda/RESUME/blob/master/Yandex_1_task_Garmaeva.ipynb\" target=\"_parent\"><img src=\"https://colab.research.google.com/assets/colab-badge.svg\" alt=\"Open In Colab\"/></a>"
      ]
    },
    {
      "cell_type": "markdown",
      "metadata": {
        "id": "uY4eHhQnLqA1"
      },
      "source": [
        "Задача состоит в том, чтобы собрать одинаковые наборы конфет, и при этом раздать ВСЕ конфеты"
      ]
    },
    {
      "cell_type": "code",
      "metadata": {
        "id": "X8aNxMJTg7rs"
      },
      "source": [
        "class Candies_to_list():\r\n",
        "\r\n",
        "    \"\"\"Сперва получим на вход список конфет\"\"\"\r\n",
        "\r\n",
        "    def __init__(self):\r\n",
        "        self.candies = str(input(\"Пожалуйста, введите список конфет в виде питоновского списка \\n\"))\r\n",
        "\r\n",
        "\r\n",
        "    def remove_spaces(self):\r\n",
        "        \"\"\"Получив на вход данные, создадим считываемый список\"\"\"\r\n",
        "        self.candies_list = []\r\n",
        "        for x in self.candies:\r\n",
        "            if x != '[' and x != ']' and x !=\"'\" and x != \",\" and x != ' ':\r\n",
        "                self.candies_list.append(x)\r\n",
        "        return self.candies_list"
      ],
      "execution_count": 76,
      "outputs": []
    },
    {
      "cell_type": "markdown",
      "metadata": {
        "id": "7nNkqd19foSe"
      },
      "source": [
        "Теперь посчитаем сколько разных видов конфет есть:"
      ]
    },
    {
      "cell_type": "code",
      "metadata": {
        "id": "cbAuRYcBYPxY"
      },
      "source": [
        "class Candies_list_to_dict():\r\n",
        "    \"\"\"Получив список конфет, создадим словарь, чтобы было легче считать разные типы конфет\"\"\"\r\n",
        "        \r\n",
        "    def create_dict(self):\r\n",
        "        self.candies_list = Candies_to_list()\r\n",
        "        self.candies_list = self.candies_list.remove_spaces()\r\n",
        "        self.candies_dict = {candy: self.candies_list.count(candy) for candy in self.candies_list}\r\n",
        "        return self.candies_dict"
      ],
      "execution_count": 77,
      "outputs": []
    },
    {
      "cell_type": "markdown",
      "metadata": {
        "id": "bQE1SUhveJpV"
      },
      "source": [
        "Теперь имея все, что нужно, напишем класс \"наборы конфет\", который определяет, что скольким друзьям мы можем раздать одинаковые наборы, подарив при этом ВСЕ конфеты"
      ]
    },
    {
      "cell_type": "code",
      "metadata": {
        "colab": {
          "base_uri": "https://localhost:8080/"
        },
        "id": "EsSYZf5IadLM",
        "outputId": "8c32e320-e6c9-4f9a-a433-41944769c363"
      },
      "source": [
        "class Candies_sets():\r\n",
        "\r\n",
        "    def give_candies(self):\r\n",
        "        self.candies_dict = Candies_list_to_dict()\r\n",
        "        self.candies_dict = self.candies_dict.create_dict()\r\n",
        "        \"\"\"Получив словарь, вычислим минимальный по значению тип конфет в словаре, чтобы понимать, сможем ли мы получить больше, чем один набор\"\"\"\r\n",
        "        self.min = min(self.candies_dict, key=self.candies_dict.get)\r\n",
        "        more_than_one_set = True\r\n",
        "\r\n",
        "        \"\"\"Если хоть в одном виде конфет нет пропорционального количества конфет по сравнению с минимумом, то мы не сможем получить больше 1 набора\"\"\"\r\n",
        "        for key in self.candies_dict:\r\n",
        "            if self.candies_dict[key] % self.candies_dict[self.min] != 0:\r\n",
        "                more_than_one_set = False\r\n",
        "            else:\r\n",
        "                more_than_one_set = True\r\n",
        "\r\n",
        "        \"\"\"Если количество конфет пропорционально, то количество наборов - минимум из словаря\"\"\"\r\n",
        "        if more_than_one_set == True:\r\n",
        "            return self.candies_dict[self.min]\r\n",
        "        else:\r\n",
        "            return 1\r\n",
        "\r\n",
        "my_candies = Candies_sets()\r\n",
        "my_candies.give_candies()"
      ],
      "execution_count": 80,
      "outputs": [
        {
          "output_type": "stream",
          "text": [
            "Пожалуйста, введите список конфет в виде питоновского списка \n",
            "['a', 'b', 'a']\n"
          ],
          "name": "stdout"
        },
        {
          "output_type": "execute_result",
          "data": {
            "text/plain": [
              "1"
            ]
          },
          "metadata": {
            "tags": []
          },
          "execution_count": 80
        }
      ]
    },
    {
      "cell_type": "code",
      "metadata": {
        "id": "e_6cP3puv0VW"
      },
      "source": [
        ""
      ],
      "execution_count": null,
      "outputs": []
    }
  ]
}